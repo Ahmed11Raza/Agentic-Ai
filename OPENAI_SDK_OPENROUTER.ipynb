{
  "nbformat": 4,
  "nbformat_minor": 0,
  "metadata": {
    "colab": {
      "provenance": [],
      "authorship_tag": "ABX9TyNkawqnZl5HL9ZMLSwXhJrU",
      "include_colab_link": true
    },
    "kernelspec": {
      "name": "python3",
      "display_name": "Python 3"
    },
    "language_info": {
      "name": "python"
    }
  },
  "cells": [
    {
      "cell_type": "markdown",
      "metadata": {
        "id": "view-in-github",
        "colab_type": "text"
      },
      "source": [
        "<a href=\"https://colab.research.google.com/github/Ahmed11Raza/Agentic-Ai/blob/main/OPENAI_SDK_OPENROUTER.ipynb\" target=\"_parent\"><img src=\"https://colab.research.google.com/assets/colab-badge.svg\" alt=\"Open In Colab\"/></a>"
      ]
    },
    {
      "cell_type": "code",
      "execution_count": 1,
      "metadata": {
        "colab": {
          "base_uri": "https://localhost:8080/"
        },
        "id": "1wA4k-Z0xzJx",
        "outputId": "5bb4ec17-9292-4279-ab56-4c2f84088d50"
      },
      "outputs": [
        {
          "output_type": "stream",
          "name": "stdout",
          "text": [
            "\u001b[?25l   \u001b[90m━━━━━━━━━━━━━━━━━━━━━━━━━━━━━━━━━━━━━━━━\u001b[0m \u001b[32m0.0/116.2 kB\u001b[0m \u001b[31m?\u001b[0m eta \u001b[36m-:--:--\u001b[0m\r\u001b[2K   \u001b[90m━━━━━━━━━━━━━━━━━━━━━━━━━━━━━━━━━━━━━━━━\u001b[0m \u001b[32m116.2/116.2 kB\u001b[0m \u001b[31m4.5 MB/s\u001b[0m eta \u001b[36m0:00:00\u001b[0m\n",
            "\u001b[?25h\u001b[?25l   \u001b[90m━━━━━━━━━━━━━━━━━━━━━━━━━━━━━━━━━━━━━━━━\u001b[0m \u001b[32m0.0/129.2 kB\u001b[0m \u001b[31m?\u001b[0m eta \u001b[36m-:--:--\u001b[0m\r\u001b[2K   \u001b[90m━━━━━━━━━━━━━━━━━━━━━━━━━━━━━━━━━━━━━━━━\u001b[0m \u001b[32m129.2/129.2 kB\u001b[0m \u001b[31m6.0 MB/s\u001b[0m eta \u001b[36m0:00:00\u001b[0m\n",
            "\u001b[?25h\u001b[?25l   \u001b[90m━━━━━━━━━━━━━━━━━━━━━━━━━━━━━━━━━━━━━━━━\u001b[0m \u001b[32m0.0/76.1 kB\u001b[0m \u001b[31m?\u001b[0m eta \u001b[36m-:--:--\u001b[0m\r\u001b[2K   \u001b[90m━━━━━━━━━━━━━━━━━━━━━━━━━━━━━━━━━━━━━━━━\u001b[0m \u001b[32m76.1/76.1 kB\u001b[0m \u001b[31m3.3 MB/s\u001b[0m eta \u001b[36m0:00:00\u001b[0m\n",
            "\u001b[?25h\u001b[?25l   \u001b[90m━━━━━━━━━━━━━━━━━━━━━━━━━━━━━━━━━━━━━━━━\u001b[0m \u001b[32m0.0/44.4 kB\u001b[0m \u001b[31m?\u001b[0m eta \u001b[36m-:--:--\u001b[0m\r\u001b[2K   \u001b[90m━━━━━━━━━━━━━━━━━━━━━━━━━━━━━━━━━━━━━━━━\u001b[0m \u001b[32m44.4/44.4 kB\u001b[0m \u001b[31m2.3 MB/s\u001b[0m eta \u001b[36m0:00:00\u001b[0m\n",
            "\u001b[2K   \u001b[90m━━━━━━━━━━━━━━━━━━━━━━━━━━━━━━━━━━━━━━━━\u001b[0m \u001b[32m72.0/72.0 kB\u001b[0m \u001b[31m4.5 MB/s\u001b[0m eta \u001b[36m0:00:00\u001b[0m\n",
            "\u001b[2K   \u001b[90m━━━━━━━━━━━━━━━━━━━━━━━━━━━━━━━━━━━━━━━━\u001b[0m \u001b[32m62.5/62.5 kB\u001b[0m \u001b[31m2.9 MB/s\u001b[0m eta \u001b[36m0:00:00\u001b[0m\n",
            "\u001b[?25h"
          ]
        }
      ],
      "source": [
        "!pip install -Uq openai-agents"
      ]
    },
    {
      "cell_type": "code",
      "source": [
        "import nest_asyncio\n",
        "nest_asyncio.apply()"
      ],
      "metadata": {
        "id": "pRHZimYm5QrN"
      },
      "execution_count": 2,
      "outputs": []
    },
    {
      "cell_type": "code",
      "source": [
        "from google.colab import userdata\n",
        "\n",
        "OPENROUTER_API_KEY = userdata.get(\"OPENROUTER_API_KEY\")"
      ],
      "metadata": {
        "id": "K8Sxpxtl5RE6"
      },
      "execution_count": 4,
      "outputs": []
    },
    {
      "cell_type": "code",
      "source": [
        "#Reference: https://openrouter.ai/docs/quickstart\n",
        "\n",
        "BASE_URL = \"https://openrouter.ai/api/v1\"\n",
        "MODEL = \"meta-llama/llama-4-scout:free\"\n",
        "\n",
        "# Some other free models on 26th March:\n",
        "# https://openrouter.ai/deepseek/deepseek-chat-v3-0324:free\n",
        "# https://openrouter.ai/google/gemini-2.5-pro-exp-03-25:free"
      ],
      "metadata": {
        "id": "D1i63oiO5kXB"
      },
      "execution_count": 5,
      "outputs": []
    },
    {
      "cell_type": "code",
      "source": [
        "BASE_URL"
      ],
      "metadata": {
        "colab": {
          "base_uri": "https://localhost:8080/",
          "height": 36
        },
        "id": "yoPKo8Mr59kg",
        "outputId": "12d32d13-89f8-476e-e63b-12816e422101"
      },
      "execution_count": 6,
      "outputs": [
        {
          "output_type": "execute_result",
          "data": {
            "text/plain": [
              "'https://openrouter.ai/api/v1'"
            ],
            "application/vnd.google.colaboratory.intrinsic+json": {
              "type": "string"
            }
          },
          "metadata": {},
          "execution_count": 6
        }
      ]
    },
    {
      "cell_type": "code",
      "source": [
        "import requests\n",
        "import json\n",
        "\n",
        "response = requests.post(\n",
        "  url=f\"https://openrouter.ai/api/v1/chat/completions\",\n",
        "  headers={\n",
        "    \"Authorization\": f\"Bearer {OPENROUTER_API_KEY}\",\n",
        "  },\n",
        "  data=json.dumps({\n",
        "    \"model\": MODEL,\n",
        "    \"messages\": [\n",
        "      {\n",
        "        \"role\": \"user\",\n",
        "        \"content\": \"Hi, i want an idea to create a python project just by using OOPS method.Can you seggest atleat 10 project names to build?\"\n",
        "      }\n",
        "    ]\n",
        "  })\n",
        ")\n",
        "\n",
        "print(response.json())"
      ],
      "metadata": {
        "colab": {
          "base_uri": "https://localhost:8080/"
        },
        "id": "gKVg93lm6NH8",
        "outputId": "382344cc-724d-40e8-e835-da9f50bdcfc3"
      },
      "execution_count": 9,
      "outputs": [
        {
          "output_type": "stream",
          "name": "stdout",
          "text": [
            "{'id': 'gen-1745349180-1SFyArfbXv0rVx27rE5g', 'provider': 'Chutes', 'model': 'meta-llama/llama-4-scout', 'object': 'chat.completion', 'created': 1745349180, 'choices': [{'logprobs': None, 'finish_reason': 'stop', 'native_finish_reason': 'stop', 'index': 0, 'message': {'role': 'assistant', 'content': 'Here are 10 Python project ideas that utilize Object-Oriented Programming (OOPS) concepts:\\n\\n### Project Ideas\\n\\n1. **Bank Management System**: Create a system to manage bank accounts, customers, and transactions using classes and objects.\\n2. **Library Management System**: Develop a system to manage books, borrowers, and borrowing transactions using OOPS concepts.\\n3. **Student Information System**: Design a system to store and manage student information, including grades, attendance, and course enrollment.\\n4. **E-commerce Platform**: Build a simple e-commerce platform using OOPS concepts to manage products, customers, orders, and inventory.\\n5. **Weather Monitoring System**: Create a system to collect and display weather data using classes and objects to represent weather stations and forecasts.\\n6. **Game Development**: Develop a simple game like Tic-Tac-Toe, Snake, or Pong using OOPS concepts to represent game objects, players, and game logic.\\n7. **Hotel Management System**: Design a system to manage hotel rooms, guests, and reservations using classes and objects.\\n8. **Vehicle Management System**: Create a system to manage vehicles, owners, and maintenance records using OOPS concepts.\\n9. **Restaurant Management System**: Develop a system to manage restaurant orders, menu items, and inventory using classes and objects.\\n10. **University Course Management System**: Design a system to manage courses, instructors, and student enrollment using OOPS concepts.\\n\\n### Example Use Case: Bank Management System\\n\\nHere\\'s a simple example of a Bank Management System using OOPS concepts:\\n```python\\nclass Customer:\\n    def __init__(self, name, address):\\n        self.name = name\\n        self.address = address\\n\\nclass Account:\\n    def __init__(self, customer, balance):\\n        self.customer = customer\\n        self.balance = balance\\n\\n    def deposit(self, amount):\\n        self.balance += amount\\n\\n    def withdraw(self, amount):\\n        if amount > self.balance:\\n            print(\"Insufficient funds\")\\n        else:\\n            self.balance -= amount\\n\\nclass Bank:\\n    def __init__(self):\\n        self.accounts = []\\n\\n    def create_account(self, customer, balance):\\n        account = Account(customer, balance)\\n        self.accounts.append(account)\\n\\n    def display_accounts(self):\\n        for account in self.accounts:\\n            print(f\"Customer: {account.customer.name}, Balance: {account.balance}\")\\n\\n# Create a bank and customers\\nbank = Bank()\\ncustomer1 = Customer(\"John Doe\", \"123 Main St\")\\ncustomer2 = Customer(\"Jane Smith\", \"456 Elm St\")\\n\\n# Create accounts\\nbank.create_account(customer1, 1000)\\nbank.create_account(customer2, 500)\\n\\n# Display accounts\\nbank.display_accounts()\\n```\\nThis example demonstrates the use of classes and objects to represent customers, accounts, and a bank. You can extend this example to include more features and functionality.', 'refusal': None, 'reasoning': None}}], 'usage': {'prompt_tokens': 41, 'completion_tokens': 579, 'total_tokens': 620}}\n"
          ]
        }
      ]
    },
    {
      "cell_type": "code",
      "source": [
        "data = response.json()\n",
        "data['choices'][0]['message']['content']"
      ],
      "metadata": {
        "colab": {
          "base_uri": "https://localhost:8080/",
          "height": 291
        },
        "id": "tWRmrFVa6dLZ",
        "outputId": "18f5662e-5139-4352-d058-8628222789ef"
      },
      "execution_count": 10,
      "outputs": [
        {
          "output_type": "execute_result",
          "data": {
            "text/plain": [
              "'Here are 10 Python project ideas that utilize Object-Oriented Programming (OOPS) concepts:\\n\\n### Project Ideas\\n\\n1. **Bank Management System**: Create a system to manage bank accounts, customers, and transactions using classes and objects.\\n2. **Library Management System**: Develop a system to manage books, borrowers, and borrowing transactions using OOPS concepts.\\n3. **Student Information System**: Design a system to store and manage student information, including grades, attendance, and course enrollment.\\n4. **E-commerce Platform**: Build a simple e-commerce platform using OOPS concepts to manage products, customers, orders, and inventory.\\n5. **Weather Monitoring System**: Create a system to collect and display weather data using classes and objects to represent weather stations and forecasts.\\n6. **Game Development**: Develop a simple game like Tic-Tac-Toe, Snake, or Pong using OOPS concepts to represent game objects, players, and game logic.\\n7. **Hotel Management System**: Design a system to manage hotel rooms, guests, and reservations using classes and objects.\\n8. **Vehicle Management System**: Create a system to manage vehicles, owners, and maintenance records using OOPS concepts.\\n9. **Restaurant Management System**: Develop a system to manage restaurant orders, menu items, and inventory using classes and objects.\\n10. **University Course Management System**: Design a system to manage courses, instructors, and student enrollment using OOPS concepts.\\n\\n### Example Use Case: Bank Management System\\n\\nHere\\'s a simple example of a Bank Management System using OOPS concepts:\\n```python\\nclass Customer:\\n    def __init__(self, name, address):\\n        self.name = name\\n        self.address = address\\n\\nclass Account:\\n    def __init__(self, customer, balance):\\n        self.customer = customer\\n        self.balance = balance\\n\\n    def deposit(self, amount):\\n        self.balance += amount\\n\\n    def withdraw(self, amount):\\n        if amount > self.balance:\\n            print(\"Insufficient funds\")\\n        else:\\n            self.balance -= amount\\n\\nclass Bank:\\n    def __init__(self):\\n        self.accounts = []\\n\\n    def create_account(self, customer, balance):\\n        account = Account(customer, balance)\\n        self.accounts.append(account)\\n\\n    def display_accounts(self):\\n        for account in self.accounts:\\n            print(f\"Customer: {account.customer.name}, Balance: {account.balance}\")\\n\\n# Create a bank and customers\\nbank = Bank()\\ncustomer1 = Customer(\"John Doe\", \"123 Main St\")\\ncustomer2 = Customer(\"Jane Smith\", \"456 Elm St\")\\n\\n# Create accounts\\nbank.create_account(customer1, 1000)\\nbank.create_account(customer2, 500)\\n\\n# Display accounts\\nbank.display_accounts()\\n```\\nThis example demonstrates the use of classes and objects to represent customers, accounts, and a bank. You can extend this example to include more features and functionality.'"
            ],
            "application/vnd.google.colaboratory.intrinsic+json": {
              "type": "string"
            }
          },
          "metadata": {},
          "execution_count": 10
        }
      ]
    },
    {
      "cell_type": "markdown",
      "source": [
        "# Using OpenAI Agents SDK"
      ],
      "metadata": {
        "id": "WxcN8aKb7Ng7"
      }
    },
    {
      "cell_type": "code",
      "source": [
        "import asyncio\n",
        "from openai import AsyncOpenAI # chat completions\n",
        "from agents import Agent, OpenAIChatCompletionsModel, Runner, set_tracing_disabled\n",
        "\n",
        "set_tracing_disabled(disabled=True) # Open AI Tracing == Disable\n",
        "\n",
        "client = AsyncOpenAI(\n",
        "    api_key=OPENROUTER_API_KEY,\n",
        "    base_url=BASE_URL\n",
        ")\n",
        "\n",
        "\n",
        "async def main():\n",
        "    # This agent will use the custom LLM provider\n",
        "    agent = Agent(\n",
        "        name=\"agent-razaka\",\n",
        "        instructions=\"You only respond in english.\",\n",
        "        model=OpenAIChatCompletionsModel(model=MODEL, openai_client=client),\n",
        "    )\n",
        "\n",
        "    result = await Runner.run(\n",
        "        agent, # starting agent\n",
        "        \"Hi,i want an idea to create a python project just by using OOPS method.Can you seggest atleat 10 project names to build? \", # request\n",
        "    )\n",
        "    print(result.final_output)\n",
        "\n",
        "\n",
        "asyncio.run(main())"
      ],
      "metadata": {
        "colab": {
          "base_uri": "https://localhost:8080/"
        },
        "id": "9dq0stzn7PRc",
        "outputId": "c106c82d-492e-4258-fb3b-e7e0178fe831"
      },
      "execution_count": 13,
      "outputs": [
        {
          "output_type": "stream",
          "name": "stdout",
          "text": [
            "Here are 10 Python project ideas that you can build using Object-Oriented Programming (OOPS) concepts:\n",
            "\n",
            "1. **Bank Management System**: Create a system that allows users to create accounts, deposit, withdraw, and check their balance. You can use classes like `Account`, `Customer`, and `Transaction`.\n",
            "2. **Library Management System**: Develop a system that manages books, authors, and borrowers. You can use classes like `Book`, `Author`, `Borrower`, and `Library`.\n",
            "3. **Vehicle Management System**: Build a system that allows you to manage different types of vehicles, such as cars, buses, and trucks. You can use classes like `Vehicle`, `Car`, `Bus`, and `Truck`.\n",
            "4. **Student Information System**: Create a system that stores student information, such as name, roll number, and grades. You can use classes like `Student`, `Course`, and `Grade`.\n",
            "5. **Restaurant Management System**: Develop a system that manages restaurant operations, such as ordering, inventory, and staff management. You can use classes like `Menu`, `Order`, `Staff`, and `Inventory`.\n",
            "6. **Game Character Management System**: Build a system that allows you to create and manage game characters, such as players, enemies, and NPCs. You can use classes like `Character`, `Player`, `Enemy`, and `NPC`.\n",
            "7. **Employee Management System**: Create a system that manages employee information, such as name, ID, and salary. You can use classes like `Employee`, `Department`, and `Salary`.\n",
            "8. **Product Inventory Management System**: Develop a system that manages product inventory, such as product details, stock levels, and orders. You can use classes like `Product`, `Inventory`, and `Order`.\n",
            "9. **Weather Monitoring System**: Build a system that collects and displays weather data, such as temperature, humidity, and wind speed. You can use classes like `WeatherStation`, `WeatherData`, and `Forecast`.\n",
            "10. **Hotel Management System**: Create a system that manages hotel operations, such as room booking, guest information, and billing. You can use classes like `Room`, `Guest`, `Booking`, and `Bill`.\n",
            "\n",
            "Some additional ideas:\n",
            "\n",
            "* **E-commerce Platform**: Create an e-commerce platform that allows users to browse products, add to cart, and checkout.\n",
            "* **Social Media Platform**: Develop a social media platform that allows users to create profiles, post updates, and connect with friends.\n",
            "* **Online Exam System**: Build an online exam system that allows users to take exams, view results, and manage exam schedules.\n",
            "\n",
            "These project ideas will help you apply OOPS concepts, such as classes, objects, inheritance, polymorphism, and encapsulation, to real-world problems.\n"
          ]
        }
      ]
    },
    {
      "cell_type": "code",
      "source": [
        "response.json()"
      ],
      "metadata": {
        "colab": {
          "base_uri": "https://localhost:8080/"
        },
        "id": "RRYrV1Vj8Mk8",
        "outputId": "9ed7658b-0a1a-45b6-9268-af423d6db3e6"
      },
      "execution_count": 14,
      "outputs": [
        {
          "output_type": "execute_result",
          "data": {
            "text/plain": [
              "{'id': 'gen-1745349180-1SFyArfbXv0rVx27rE5g',\n",
              " 'provider': 'Chutes',\n",
              " 'model': 'meta-llama/llama-4-scout',\n",
              " 'object': 'chat.completion',\n",
              " 'created': 1745349180,\n",
              " 'choices': [{'logprobs': None,\n",
              "   'finish_reason': 'stop',\n",
              "   'native_finish_reason': 'stop',\n",
              "   'index': 0,\n",
              "   'message': {'role': 'assistant',\n",
              "    'content': 'Here are 10 Python project ideas that utilize Object-Oriented Programming (OOPS) concepts:\\n\\n### Project Ideas\\n\\n1. **Bank Management System**: Create a system to manage bank accounts, customers, and transactions using classes and objects.\\n2. **Library Management System**: Develop a system to manage books, borrowers, and borrowing transactions using OOPS concepts.\\n3. **Student Information System**: Design a system to store and manage student information, including grades, attendance, and course enrollment.\\n4. **E-commerce Platform**: Build a simple e-commerce platform using OOPS concepts to manage products, customers, orders, and inventory.\\n5. **Weather Monitoring System**: Create a system to collect and display weather data using classes and objects to represent weather stations and forecasts.\\n6. **Game Development**: Develop a simple game like Tic-Tac-Toe, Snake, or Pong using OOPS concepts to represent game objects, players, and game logic.\\n7. **Hotel Management System**: Design a system to manage hotel rooms, guests, and reservations using classes and objects.\\n8. **Vehicle Management System**: Create a system to manage vehicles, owners, and maintenance records using OOPS concepts.\\n9. **Restaurant Management System**: Develop a system to manage restaurant orders, menu items, and inventory using classes and objects.\\n10. **University Course Management System**: Design a system to manage courses, instructors, and student enrollment using OOPS concepts.\\n\\n### Example Use Case: Bank Management System\\n\\nHere\\'s a simple example of a Bank Management System using OOPS concepts:\\n```python\\nclass Customer:\\n    def __init__(self, name, address):\\n        self.name = name\\n        self.address = address\\n\\nclass Account:\\n    def __init__(self, customer, balance):\\n        self.customer = customer\\n        self.balance = balance\\n\\n    def deposit(self, amount):\\n        self.balance += amount\\n\\n    def withdraw(self, amount):\\n        if amount > self.balance:\\n            print(\"Insufficient funds\")\\n        else:\\n            self.balance -= amount\\n\\nclass Bank:\\n    def __init__(self):\\n        self.accounts = []\\n\\n    def create_account(self, customer, balance):\\n        account = Account(customer, balance)\\n        self.accounts.append(account)\\n\\n    def display_accounts(self):\\n        for account in self.accounts:\\n            print(f\"Customer: {account.customer.name}, Balance: {account.balance}\")\\n\\n# Create a bank and customers\\nbank = Bank()\\ncustomer1 = Customer(\"John Doe\", \"123 Main St\")\\ncustomer2 = Customer(\"Jane Smith\", \"456 Elm St\")\\n\\n# Create accounts\\nbank.create_account(customer1, 1000)\\nbank.create_account(customer2, 500)\\n\\n# Display accounts\\nbank.display_accounts()\\n```\\nThis example demonstrates the use of classes and objects to represent customers, accounts, and a bank. You can extend this example to include more features and functionality.',\n",
              "    'refusal': None,\n",
              "    'reasoning': None}}],\n",
              " 'usage': {'prompt_tokens': 41, 'completion_tokens': 579, 'total_tokens': 620}}"
            ]
          },
          "metadata": {},
          "execution_count": 14
        }
      ]
    }
  ]
}