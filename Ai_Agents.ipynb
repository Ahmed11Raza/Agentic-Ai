{
  "nbformat": 4,
  "nbformat_minor": 0,
  "metadata": {
    "colab": {
      "provenance": [],
      "authorship_tag": "ABX9TyMn+00aMqk/2uE1VhtxDvPf",
      "include_colab_link": true
    },
    "kernelspec": {
      "name": "python3",
      "display_name": "Python 3"
    },
    "language_info": {
      "name": "python"
    }
  },
  "cells": [
    {
      "cell_type": "markdown",
      "metadata": {
        "id": "view-in-github",
        "colab_type": "text"
      },
      "source": [
        "<a href=\"https://colab.research.google.com/github/Ahmed11Raza/Agentic-Ai/blob/main/Ai_Agents.ipynb\" target=\"_parent\"><img src=\"https://colab.research.google.com/assets/colab-badge.svg\" alt=\"Open In Colab\"/></a>"
      ]
    },
    {
      "cell_type": "code",
      "execution_count": 2,
      "metadata": {
        "id": "aGvepXxyb72f"
      },
      "outputs": [],
      "source": [
        "!pip install -qU openai-agents"
      ]
    },
    {
      "cell_type": "code",
      "source": [
        "import nest_asyncio\n",
        "nest_asyncio.apply()"
      ],
      "metadata": {
        "id": "FPpM7ITIcWmQ"
      },
      "execution_count": 3,
      "outputs": []
    },
    {
      "cell_type": "code",
      "source": [
        "from google.colab import userdata\n",
        "from agents import AsyncOpenAI, Agent, function_tool, Runner, OpenAIChatCompletionsModel, set_tracing_disabled\n",
        "import json\n",
        "\n",
        "\n",
        "API_KEY = userdata.get('GEMINI_API_KEY')\n",
        "MODEL = \"gemini-2.0-flash\"\n",
        "\n",
        "external_client = AsyncOpenAI(\n",
        "    api_key=API_KEY,\n",
        "    base_url=\"https://generativelanguage.googleapis.com/v1beta/openai/\",\n",
        ")\n",
        "\n",
        "@function_tool\n",
        "def get_current_weather(location:str, unit:str=\"celsius\")->str:\n",
        "    \"\"\"Get the current weather in a given location\"\"\"\n",
        "    if \"tokyo\" in location.lower():\n",
        "        return json.dumps({\"location\": \"Tokyo\", \"temperature\": \"10\", \"unit\": \"celsius\"})\n",
        "    elif \"san francisco\" in location.lower():\n",
        "        return json.dumps({\"location\": \"San Francisco\", \"temperature\": \"72\", \"unit\": \"celsius\"})\n",
        "    else:\n",
        "        return json.dumps({\"location\": location, \"temperature\": \"unknown\"})\n",
        "\n",
        "\n",
        "agent2 = Agent(\n",
        "    name=\"Piaic assistant\",\n",
        "    instructions=\"You are good at handling PIAIC related queries\",\n",
        "    model=OpenAIChatCompletionsModel(model=MODEL, openai_client=external_client),\n",
        "    handoff_description=\"PIAIC expert\"\n",
        "  )\n",
        "agent3 = agent2.clone(\n",
        "    name=\"Weather assistant\",\n",
        "    instructions=\"You are good at handling weather related queries\",\n",
        "    tools=[get_current_weather],\n",
        "    handoff_description=\"Weather expert\"\n",
        "  )\n",
        "\n",
        "agent1 = Agent(\n",
        "    name=\"Assistant\",\n",
        "    instructions=\"You are good at giving answers to the users queries. you can handoff tasks to the other agents\",\n",
        "    model=OpenAIChatCompletionsModel(model=MODEL, openai_client=external_client),\n",
        "    handoffs=[agent2, agent3]\n",
        "  )\n",
        "\n",
        "set_tracing_disabled(disabled=True)\n"
      ],
      "metadata": {
        "id": "ri20Q9D5ckWk"
      },
      "execution_count": 4,
      "outputs": []
    },
    {
      "cell_type": "code",
      "source": [
        "result = Runner.run_sync(\n",
        "    starting_agent=agent1,\n",
        "    input=\"What are the courses offered by PIAIC\")\n",
        "\n",
        "print(result.last_agent.name)\n",
        "print(result.final_output)"
      ],
      "metadata": {
        "colab": {
          "base_uri": "https://localhost:8080/"
        },
        "id": "hRwipPNGcrdg",
        "outputId": "bd1908d8-e85b-468a-a2da-5ecceb381745"
      },
      "execution_count": 5,
      "outputs": [
        {
          "output_type": "stream",
          "name": "stdout",
          "text": [
            "Piaic assistant\n",
            "PIAIC (Presidential Initiative for Artificial Intelligence & Computing) offers a range of courses focused on in-demand technology skills.  Here's a breakdown of their main programs:\n",
            "\n",
            "*   **Artificial Intelligence (AI):** A flagship program covering the fundamentals of AI, machine learning, deep learning, and related concepts. It aims to equip students with the skills to develop AI-powered solutions.\n",
            "\n",
            "*   **Cloud Native Computing:** This program focuses on developing and deploying applications using cloud technologies, containers (like Docker), orchestration platforms (like Kubernetes), and related tools. It prepares students for careers in cloud computing and DevOps.\n",
            "\n",
            "*   **Web 3.0 and Metaverse:** This course explores the emerging technologies of Web 3.0, blockchain, NFTs, and the metaverse. Students learn how to develop decentralized applications and experiences for the future of the internet.\n",
            "\n",
            "*   **Blockchain:**  A program dedicated to understanding blockchain technology, its applications beyond cryptocurrency, smart contracts, and decentralized applications (dApps).\n",
            "\n",
            "*   **Internet of Things (IoT):** This course delves into the world of connected devices, sensors, data analytics, and the development of IoT solutions for various industries.\n",
            "\n",
            "*   **Data Science:** A program focused on data analysis, statistical modeling, machine learning, and data visualization techniques to extract insights from data and make data-driven decisions.\n",
            "\n",
            "It's worth checking the PIAIC website ([https://www.piaic.org/](https://www.piaic.org/)) for the most up-to-date information on course availability, schedules, and specific curriculum details. They may also offer specialized workshops or short courses in addition to these core programs.\n"
          ]
        }
      ]
    },
    {
      "cell_type": "code",
      "source": [
        "result = Runner.run_sync(\n",
        "    starting_agent=agent1,\n",
        "    input=\"What is the weather in Tokyo in celcius\")\n",
        "\n",
        "print(result.last_agent.name)\n",
        "print(result.final_output)"
      ],
      "metadata": {
        "colab": {
          "base_uri": "https://localhost:8080/"
        },
        "id": "FGkpUU-9cytS",
        "outputId": "8b170484-24ea-4ea8-b3b9-244661e33377"
      },
      "execution_count": 6,
      "outputs": [
        {
          "output_type": "stream",
          "name": "stdout",
          "text": [
            "Weather assistant\n",
            "The weather in Tokyo is 10 degrees Celsius.\n",
            "\n"
          ]
        }
      ]
    },
    {
      "cell_type": "code",
      "source": [
        "from agents import enable_verbose_stdout_logging\n",
        "\n",
        "enable_verbose_stdout_logging()"
      ],
      "metadata": {
        "id": "23Pt_Be0c1_P"
      },
      "execution_count": 7,
      "outputs": []
    },
    {
      "cell_type": "code",
      "source": [
        "result = Runner.run_sync(\n",
        "    starting_agent=agent1,\n",
        "    input=\"HI\")\n",
        "\n",
        "print(result.last_agent.name)\n",
        "print(result.final_output)"
      ],
      "metadata": {
        "colab": {
          "base_uri": "https://localhost:8080/"
        },
        "id": "UmIJzkHzc6Sg",
        "outputId": "efe200af-42e4-453b-fb90-9afcbe4dc935"
      },
      "execution_count": 8,
      "outputs": [
        {
          "output_type": "stream",
          "name": "stdout",
          "text": [
            "Tracing is disabled. Not creating trace Agent workflow\n"
          ]
        },
        {
          "output_type": "stream",
          "name": "stderr",
          "text": [
            "DEBUG:openai.agents:Tracing is disabled. Not creating trace Agent workflow\n"
          ]
        },
        {
          "output_type": "stream",
          "name": "stdout",
          "text": [
            "Setting current trace: no-op\n"
          ]
        },
        {
          "output_type": "stream",
          "name": "stderr",
          "text": [
            "DEBUG:openai.agents:Setting current trace: no-op\n"
          ]
        },
        {
          "output_type": "stream",
          "name": "stdout",
          "text": [
            "Tracing is disabled. Not creating span <agents.tracing.span_data.AgentSpanData object at 0x7ed964852090>\n"
          ]
        },
        {
          "output_type": "stream",
          "name": "stderr",
          "text": [
            "DEBUG:openai.agents:Tracing is disabled. Not creating span <agents.tracing.span_data.AgentSpanData object at 0x7ed964852090>\n"
          ]
        },
        {
          "output_type": "stream",
          "name": "stdout",
          "text": [
            "Running agent Assistant (turn 1)\n"
          ]
        },
        {
          "output_type": "stream",
          "name": "stderr",
          "text": [
            "DEBUG:openai.agents:Running agent Assistant (turn 1)\n"
          ]
        },
        {
          "output_type": "stream",
          "name": "stdout",
          "text": [
            "Tracing is disabled. Not creating span <agents.tracing.span_data.GenerationSpanData object at 0x7ed964850dd0>\n"
          ]
        },
        {
          "output_type": "stream",
          "name": "stderr",
          "text": [
            "DEBUG:openai.agents:Tracing is disabled. Not creating span <agents.tracing.span_data.GenerationSpanData object at 0x7ed964850dd0>\n"
          ]
        },
        {
          "output_type": "stream",
          "name": "stdout",
          "text": [
            "[\n",
            "  {\n",
            "    \"content\": \"You are good at giving answers to the users queries. you can handoff tasks to the other agents\",\n",
            "    \"role\": \"system\"\n",
            "  },\n",
            "  {\n",
            "    \"role\": \"user\",\n",
            "    \"content\": \"HI\"\n",
            "  }\n",
            "]\n",
            "Tools:\n",
            "[\n",
            "  {\n",
            "    \"type\": \"function\",\n",
            "    \"function\": {\n",
            "      \"name\": \"transfer_to_piaic_assistant\",\n",
            "      \"description\": \"Handoff to the Piaic assistant agent to handle the request. PIAIC expert\",\n",
            "      \"parameters\": {\n",
            "        \"additionalProperties\": false,\n",
            "        \"type\": \"object\",\n",
            "        \"properties\": {},\n",
            "        \"required\": []\n",
            "      }\n",
            "    }\n",
            "  },\n",
            "  {\n",
            "    \"type\": \"function\",\n",
            "    \"function\": {\n",
            "      \"name\": \"transfer_to_weather_assistant\",\n",
            "      \"description\": \"Handoff to the Weather assistant agent to handle the request. Weather expert\",\n",
            "      \"parameters\": {\n",
            "        \"additionalProperties\": false,\n",
            "        \"type\": \"object\",\n",
            "        \"properties\": {},\n",
            "        \"required\": []\n",
            "      }\n",
            "    }\n",
            "  }\n",
            "]\n",
            "Stream: False\n",
            "Tool choice: NOT_GIVEN\n",
            "Response format: NOT_GIVEN\n",
            "\n"
          ]
        },
        {
          "output_type": "stream",
          "name": "stderr",
          "text": [
            "DEBUG:openai.agents:[\n",
            "  {\n",
            "    \"content\": \"You are good at giving answers to the users queries. you can handoff tasks to the other agents\",\n",
            "    \"role\": \"system\"\n",
            "  },\n",
            "  {\n",
            "    \"role\": \"user\",\n",
            "    \"content\": \"HI\"\n",
            "  }\n",
            "]\n",
            "Tools:\n",
            "[\n",
            "  {\n",
            "    \"type\": \"function\",\n",
            "    \"function\": {\n",
            "      \"name\": \"transfer_to_piaic_assistant\",\n",
            "      \"description\": \"Handoff to the Piaic assistant agent to handle the request. PIAIC expert\",\n",
            "      \"parameters\": {\n",
            "        \"additionalProperties\": false,\n",
            "        \"type\": \"object\",\n",
            "        \"properties\": {},\n",
            "        \"required\": []\n",
            "      }\n",
            "    }\n",
            "  },\n",
            "  {\n",
            "    \"type\": \"function\",\n",
            "    \"function\": {\n",
            "      \"name\": \"transfer_to_weather_assistant\",\n",
            "      \"description\": \"Handoff to the Weather assistant agent to handle the request. Weather expert\",\n",
            "      \"parameters\": {\n",
            "        \"additionalProperties\": false,\n",
            "        \"type\": \"object\",\n",
            "        \"properties\": {},\n",
            "        \"required\": []\n",
            "      }\n",
            "    }\n",
            "  }\n",
            "]\n",
            "Stream: False\n",
            "Tool choice: NOT_GIVEN\n",
            "Response format: NOT_GIVEN\n",
            "\n"
          ]
        },
        {
          "output_type": "stream",
          "name": "stdout",
          "text": [
            "LLM resp:\n",
            "{\n",
            "  \"content\": \"How can I help you today?\\n\",\n",
            "  \"refusal\": null,\n",
            "  \"role\": \"assistant\",\n",
            "  \"annotations\": null,\n",
            "  \"audio\": null,\n",
            "  \"function_call\": null,\n",
            "  \"tool_calls\": null\n",
            "}\n",
            "\n"
          ]
        },
        {
          "output_type": "stream",
          "name": "stderr",
          "text": [
            "DEBUG:openai.agents:LLM resp:\n",
            "{\n",
            "  \"content\": \"How can I help you today?\\n\",\n",
            "  \"refusal\": null,\n",
            "  \"role\": \"assistant\",\n",
            "  \"annotations\": null,\n",
            "  \"audio\": null,\n",
            "  \"function_call\": null,\n",
            "  \"tool_calls\": null\n",
            "}\n",
            "\n"
          ]
        },
        {
          "output_type": "stream",
          "name": "stdout",
          "text": [
            "Resetting current trace\n"
          ]
        },
        {
          "output_type": "stream",
          "name": "stderr",
          "text": [
            "DEBUG:openai.agents:Resetting current trace\n"
          ]
        },
        {
          "output_type": "stream",
          "name": "stdout",
          "text": [
            "Assistant\n",
            "How can I help you today?\n",
            "\n"
          ]
        }
      ]
    },
    {
      "cell_type": "code",
      "source": [
        "result = Runner.run_sync(\n",
        "    starting_agent=agent1,\n",
        "    input=\"What are the courses offered by PIAIC\")\n",
        "\n",
        "print(result.last_agent.name)\n",
        "print(result.final_output)"
      ],
      "metadata": {
        "colab": {
          "base_uri": "https://localhost:8080/"
        },
        "id": "gxgqbMMuc88n",
        "outputId": "b0e367b9-3b77-4d26-a4c7-ff6774bf77e9"
      },
      "execution_count": 9,
      "outputs": [
        {
          "output_type": "stream",
          "name": "stdout",
          "text": [
            "Tracing is disabled. Not creating trace Agent workflow\n"
          ]
        },
        {
          "output_type": "stream",
          "name": "stderr",
          "text": [
            "DEBUG:openai.agents:Tracing is disabled. Not creating trace Agent workflow\n"
          ]
        },
        {
          "output_type": "stream",
          "name": "stdout",
          "text": [
            "Setting current trace: no-op\n"
          ]
        },
        {
          "output_type": "stream",
          "name": "stderr",
          "text": [
            "DEBUG:openai.agents:Setting current trace: no-op\n"
          ]
        },
        {
          "output_type": "stream",
          "name": "stdout",
          "text": [
            "Tracing is disabled. Not creating span <agents.tracing.span_data.AgentSpanData object at 0x7ed964852090>\n"
          ]
        },
        {
          "output_type": "stream",
          "name": "stderr",
          "text": [
            "DEBUG:openai.agents:Tracing is disabled. Not creating span <agents.tracing.span_data.AgentSpanData object at 0x7ed964852090>\n"
          ]
        },
        {
          "output_type": "stream",
          "name": "stdout",
          "text": [
            "Running agent Assistant (turn 1)\n"
          ]
        },
        {
          "output_type": "stream",
          "name": "stderr",
          "text": [
            "DEBUG:openai.agents:Running agent Assistant (turn 1)\n"
          ]
        },
        {
          "output_type": "stream",
          "name": "stdout",
          "text": [
            "Tracing is disabled. Not creating span <agents.tracing.span_data.GenerationSpanData object at 0x7ed964853d70>\n"
          ]
        },
        {
          "output_type": "stream",
          "name": "stderr",
          "text": [
            "DEBUG:openai.agents:Tracing is disabled. Not creating span <agents.tracing.span_data.GenerationSpanData object at 0x7ed964853d70>\n"
          ]
        },
        {
          "output_type": "stream",
          "name": "stdout",
          "text": [
            "[\n",
            "  {\n",
            "    \"content\": \"You are good at giving answers to the users queries. you can handoff tasks to the other agents\",\n",
            "    \"role\": \"system\"\n",
            "  },\n",
            "  {\n",
            "    \"role\": \"user\",\n",
            "    \"content\": \"What are the courses offered by PIAIC\"\n",
            "  }\n",
            "]\n",
            "Tools:\n",
            "[\n",
            "  {\n",
            "    \"type\": \"function\",\n",
            "    \"function\": {\n",
            "      \"name\": \"transfer_to_piaic_assistant\",\n",
            "      \"description\": \"Handoff to the Piaic assistant agent to handle the request. PIAIC expert\",\n",
            "      \"parameters\": {\n",
            "        \"additionalProperties\": false,\n",
            "        \"type\": \"object\",\n",
            "        \"properties\": {},\n",
            "        \"required\": []\n",
            "      }\n",
            "    }\n",
            "  },\n",
            "  {\n",
            "    \"type\": \"function\",\n",
            "    \"function\": {\n",
            "      \"name\": \"transfer_to_weather_assistant\",\n",
            "      \"description\": \"Handoff to the Weather assistant agent to handle the request. Weather expert\",\n",
            "      \"parameters\": {\n",
            "        \"additionalProperties\": false,\n",
            "        \"type\": \"object\",\n",
            "        \"properties\": {},\n",
            "        \"required\": []\n",
            "      }\n",
            "    }\n",
            "  }\n",
            "]\n",
            "Stream: False\n",
            "Tool choice: NOT_GIVEN\n",
            "Response format: NOT_GIVEN\n",
            "\n"
          ]
        },
        {
          "output_type": "stream",
          "name": "stderr",
          "text": [
            "DEBUG:openai.agents:[\n",
            "  {\n",
            "    \"content\": \"You are good at giving answers to the users queries. you can handoff tasks to the other agents\",\n",
            "    \"role\": \"system\"\n",
            "  },\n",
            "  {\n",
            "    \"role\": \"user\",\n",
            "    \"content\": \"What are the courses offered by PIAIC\"\n",
            "  }\n",
            "]\n",
            "Tools:\n",
            "[\n",
            "  {\n",
            "    \"type\": \"function\",\n",
            "    \"function\": {\n",
            "      \"name\": \"transfer_to_piaic_assistant\",\n",
            "      \"description\": \"Handoff to the Piaic assistant agent to handle the request. PIAIC expert\",\n",
            "      \"parameters\": {\n",
            "        \"additionalProperties\": false,\n",
            "        \"type\": \"object\",\n",
            "        \"properties\": {},\n",
            "        \"required\": []\n",
            "      }\n",
            "    }\n",
            "  },\n",
            "  {\n",
            "    \"type\": \"function\",\n",
            "    \"function\": {\n",
            "      \"name\": \"transfer_to_weather_assistant\",\n",
            "      \"description\": \"Handoff to the Weather assistant agent to handle the request. Weather expert\",\n",
            "      \"parameters\": {\n",
            "        \"additionalProperties\": false,\n",
            "        \"type\": \"object\",\n",
            "        \"properties\": {},\n",
            "        \"required\": []\n",
            "      }\n",
            "    }\n",
            "  }\n",
            "]\n",
            "Stream: False\n",
            "Tool choice: NOT_GIVEN\n",
            "Response format: NOT_GIVEN\n",
            "\n"
          ]
        },
        {
          "output_type": "stream",
          "name": "stdout",
          "text": [
            "LLM resp:\n",
            "{\n",
            "  \"content\": \"I am sorry, I cannot fulfill this request. I do not have the ability to browse the courses offered by PIAIC. However, I can transfer you to the PIAIC assistant, who is an expert on PIAIC and can better address your query. Would you like me to do that?\\n\",\n",
            "  \"refusal\": null,\n",
            "  \"role\": \"assistant\",\n",
            "  \"annotations\": null,\n",
            "  \"audio\": null,\n",
            "  \"function_call\": null,\n",
            "  \"tool_calls\": null\n",
            "}\n",
            "\n"
          ]
        },
        {
          "output_type": "stream",
          "name": "stderr",
          "text": [
            "DEBUG:openai.agents:LLM resp:\n",
            "{\n",
            "  \"content\": \"I am sorry, I cannot fulfill this request. I do not have the ability to browse the courses offered by PIAIC. However, I can transfer you to the PIAIC assistant, who is an expert on PIAIC and can better address your query. Would you like me to do that?\\n\",\n",
            "  \"refusal\": null,\n",
            "  \"role\": \"assistant\",\n",
            "  \"annotations\": null,\n",
            "  \"audio\": null,\n",
            "  \"function_call\": null,\n",
            "  \"tool_calls\": null\n",
            "}\n",
            "\n"
          ]
        },
        {
          "output_type": "stream",
          "name": "stdout",
          "text": [
            "Resetting current trace\n"
          ]
        },
        {
          "output_type": "stream",
          "name": "stderr",
          "text": [
            "DEBUG:openai.agents:Resetting current trace\n"
          ]
        },
        {
          "output_type": "stream",
          "name": "stdout",
          "text": [
            "Assistant\n",
            "I am sorry, I cannot fulfill this request. I do not have the ability to browse the courses offered by PIAIC. However, I can transfer you to the PIAIC assistant, who is an expert on PIAIC and can better address your query. Would you like me to do that?\n",
            "\n"
          ]
        }
      ]
    },
    {
      "cell_type": "code",
      "source": [
        "result = Runner.run_sync(\n",
        "    starting_agent=agent1,\n",
        "    input=\"What is the weather in Tokyo in celcius\")\n",
        "\n",
        "print(result.last_agent.name)\n",
        "print(result.final_output)"
      ],
      "metadata": {
        "colab": {
          "base_uri": "https://localhost:8080/"
        },
        "id": "bfVHMAJXdAwH",
        "outputId": "22ef5385-f763-460b-cd53-4ece9837c34b"
      },
      "execution_count": 10,
      "outputs": [
        {
          "output_type": "stream",
          "name": "stdout",
          "text": [
            "Tracing is disabled. Not creating trace Agent workflow\n"
          ]
        },
        {
          "output_type": "stream",
          "name": "stderr",
          "text": [
            "DEBUG:openai.agents:Tracing is disabled. Not creating trace Agent workflow\n"
          ]
        },
        {
          "output_type": "stream",
          "name": "stdout",
          "text": [
            "Setting current trace: no-op\n"
          ]
        },
        {
          "output_type": "stream",
          "name": "stderr",
          "text": [
            "DEBUG:openai.agents:Setting current trace: no-op\n"
          ]
        },
        {
          "output_type": "stream",
          "name": "stdout",
          "text": [
            "Tracing is disabled. Not creating span <agents.tracing.span_data.AgentSpanData object at 0x7ed964853d70>\n"
          ]
        },
        {
          "output_type": "stream",
          "name": "stderr",
          "text": [
            "DEBUG:openai.agents:Tracing is disabled. Not creating span <agents.tracing.span_data.AgentSpanData object at 0x7ed964853d70>\n"
          ]
        },
        {
          "output_type": "stream",
          "name": "stdout",
          "text": [
            "Running agent Assistant (turn 1)\n"
          ]
        },
        {
          "output_type": "stream",
          "name": "stderr",
          "text": [
            "DEBUG:openai.agents:Running agent Assistant (turn 1)\n"
          ]
        },
        {
          "output_type": "stream",
          "name": "stdout",
          "text": [
            "Tracing is disabled. Not creating span <agents.tracing.span_data.GenerationSpanData object at 0x7ed964852f90>\n"
          ]
        },
        {
          "output_type": "stream",
          "name": "stderr",
          "text": [
            "DEBUG:openai.agents:Tracing is disabled. Not creating span <agents.tracing.span_data.GenerationSpanData object at 0x7ed964852f90>\n"
          ]
        },
        {
          "output_type": "stream",
          "name": "stdout",
          "text": [
            "[\n",
            "  {\n",
            "    \"content\": \"You are good at giving answers to the users queries. you can handoff tasks to the other agents\",\n",
            "    \"role\": \"system\"\n",
            "  },\n",
            "  {\n",
            "    \"role\": \"user\",\n",
            "    \"content\": \"What is the weather in Tokyo in celcius\"\n",
            "  }\n",
            "]\n",
            "Tools:\n",
            "[\n",
            "  {\n",
            "    \"type\": \"function\",\n",
            "    \"function\": {\n",
            "      \"name\": \"transfer_to_piaic_assistant\",\n",
            "      \"description\": \"Handoff to the Piaic assistant agent to handle the request. PIAIC expert\",\n",
            "      \"parameters\": {\n",
            "        \"additionalProperties\": false,\n",
            "        \"type\": \"object\",\n",
            "        \"properties\": {},\n",
            "        \"required\": []\n",
            "      }\n",
            "    }\n",
            "  },\n",
            "  {\n",
            "    \"type\": \"function\",\n",
            "    \"function\": {\n",
            "      \"name\": \"transfer_to_weather_assistant\",\n",
            "      \"description\": \"Handoff to the Weather assistant agent to handle the request. Weather expert\",\n",
            "      \"parameters\": {\n",
            "        \"additionalProperties\": false,\n",
            "        \"type\": \"object\",\n",
            "        \"properties\": {},\n",
            "        \"required\": []\n",
            "      }\n",
            "    }\n",
            "  }\n",
            "]\n",
            "Stream: False\n",
            "Tool choice: NOT_GIVEN\n",
            "Response format: NOT_GIVEN\n",
            "\n"
          ]
        },
        {
          "output_type": "stream",
          "name": "stderr",
          "text": [
            "DEBUG:openai.agents:[\n",
            "  {\n",
            "    \"content\": \"You are good at giving answers to the users queries. you can handoff tasks to the other agents\",\n",
            "    \"role\": \"system\"\n",
            "  },\n",
            "  {\n",
            "    \"role\": \"user\",\n",
            "    \"content\": \"What is the weather in Tokyo in celcius\"\n",
            "  }\n",
            "]\n",
            "Tools:\n",
            "[\n",
            "  {\n",
            "    \"type\": \"function\",\n",
            "    \"function\": {\n",
            "      \"name\": \"transfer_to_piaic_assistant\",\n",
            "      \"description\": \"Handoff to the Piaic assistant agent to handle the request. PIAIC expert\",\n",
            "      \"parameters\": {\n",
            "        \"additionalProperties\": false,\n",
            "        \"type\": \"object\",\n",
            "        \"properties\": {},\n",
            "        \"required\": []\n",
            "      }\n",
            "    }\n",
            "  },\n",
            "  {\n",
            "    \"type\": \"function\",\n",
            "    \"function\": {\n",
            "      \"name\": \"transfer_to_weather_assistant\",\n",
            "      \"description\": \"Handoff to the Weather assistant agent to handle the request. Weather expert\",\n",
            "      \"parameters\": {\n",
            "        \"additionalProperties\": false,\n",
            "        \"type\": \"object\",\n",
            "        \"properties\": {},\n",
            "        \"required\": []\n",
            "      }\n",
            "    }\n",
            "  }\n",
            "]\n",
            "Stream: False\n",
            "Tool choice: NOT_GIVEN\n",
            "Response format: NOT_GIVEN\n",
            "\n"
          ]
        },
        {
          "output_type": "stream",
          "name": "stdout",
          "text": [
            "LLM resp:\n",
            "{\n",
            "  \"content\": null,\n",
            "  \"refusal\": null,\n",
            "  \"role\": \"assistant\",\n",
            "  \"annotations\": null,\n",
            "  \"audio\": null,\n",
            "  \"function_call\": null,\n",
            "  \"tool_calls\": [\n",
            "    {\n",
            "      \"id\": \"\",\n",
            "      \"function\": {\n",
            "        \"arguments\": \"{}\",\n",
            "        \"name\": \"transfer_to_weather_assistant\"\n",
            "      },\n",
            "      \"type\": \"function\"\n",
            "    }\n",
            "  ]\n",
            "}\n",
            "\n"
          ]
        },
        {
          "output_type": "stream",
          "name": "stderr",
          "text": [
            "DEBUG:openai.agents:LLM resp:\n",
            "{\n",
            "  \"content\": null,\n",
            "  \"refusal\": null,\n",
            "  \"role\": \"assistant\",\n",
            "  \"annotations\": null,\n",
            "  \"audio\": null,\n",
            "  \"function_call\": null,\n",
            "  \"tool_calls\": [\n",
            "    {\n",
            "      \"id\": \"\",\n",
            "      \"function\": {\n",
            "        \"arguments\": \"{}\",\n",
            "        \"name\": \"transfer_to_weather_assistant\"\n",
            "      },\n",
            "      \"type\": \"function\"\n",
            "    }\n",
            "  ]\n",
            "}\n",
            "\n"
          ]
        },
        {
          "output_type": "stream",
          "name": "stdout",
          "text": [
            "Tracing is disabled. Not creating span <agents.tracing.span_data.HandoffSpanData object at 0x7ed964855860>\n"
          ]
        },
        {
          "output_type": "stream",
          "name": "stderr",
          "text": [
            "DEBUG:openai.agents:Tracing is disabled. Not creating span <agents.tracing.span_data.HandoffSpanData object at 0x7ed964855860>\n"
          ]
        },
        {
          "output_type": "stream",
          "name": "stdout",
          "text": [
            "Tracing is disabled. Not creating span <agents.tracing.span_data.AgentSpanData object at 0x7ed964851a90>\n"
          ]
        },
        {
          "output_type": "stream",
          "name": "stderr",
          "text": [
            "DEBUG:openai.agents:Tracing is disabled. Not creating span <agents.tracing.span_data.AgentSpanData object at 0x7ed964851a90>\n"
          ]
        },
        {
          "output_type": "stream",
          "name": "stdout",
          "text": [
            "Running agent Weather assistant (turn 2)\n"
          ]
        },
        {
          "output_type": "stream",
          "name": "stderr",
          "text": [
            "DEBUG:openai.agents:Running agent Weather assistant (turn 2)\n"
          ]
        },
        {
          "output_type": "stream",
          "name": "stdout",
          "text": [
            "Tracing is disabled. Not creating span <agents.tracing.span_data.GenerationSpanData object at 0x7ed964851850>\n"
          ]
        },
        {
          "output_type": "stream",
          "name": "stderr",
          "text": [
            "DEBUG:openai.agents:Tracing is disabled. Not creating span <agents.tracing.span_data.GenerationSpanData object at 0x7ed964851850>\n"
          ]
        },
        {
          "output_type": "stream",
          "name": "stdout",
          "text": [
            "[\n",
            "  {\n",
            "    \"content\": \"You are good at handling weather related queries\",\n",
            "    \"role\": \"system\"\n",
            "  },\n",
            "  {\n",
            "    \"role\": \"user\",\n",
            "    \"content\": \"What is the weather in Tokyo in celcius\"\n",
            "  },\n",
            "  {\n",
            "    \"role\": \"assistant\",\n",
            "    \"tool_calls\": [\n",
            "      {\n",
            "        \"id\": \"\",\n",
            "        \"type\": \"function\",\n",
            "        \"function\": {\n",
            "          \"name\": \"transfer_to_weather_assistant\",\n",
            "          \"arguments\": \"{}\"\n",
            "        }\n",
            "      }\n",
            "    ]\n",
            "  },\n",
            "  {\n",
            "    \"role\": \"tool\",\n",
            "    \"tool_call_id\": \"\",\n",
            "    \"content\": \"{'assistant': 'Weather assistant'}\"\n",
            "  }\n",
            "]\n",
            "Tools:\n",
            "[\n",
            "  {\n",
            "    \"type\": \"function\",\n",
            "    \"function\": {\n",
            "      \"name\": \"get_current_weather\",\n",
            "      \"description\": \"Get the current weather in a given location\",\n",
            "      \"parameters\": {\n",
            "        \"properties\": {\n",
            "          \"location\": {\n",
            "            \"title\": \"Location\",\n",
            "            \"type\": \"string\"\n",
            "          },\n",
            "          \"unit\": {\n",
            "            \"default\": \"celsius\",\n",
            "            \"title\": \"Unit\",\n",
            "            \"type\": \"string\"\n",
            "          }\n",
            "        },\n",
            "        \"required\": [\n",
            "          \"location\",\n",
            "          \"unit\"\n",
            "        ],\n",
            "        \"title\": \"get_current_weather_args\",\n",
            "        \"type\": \"object\",\n",
            "        \"additionalProperties\": false\n",
            "      }\n",
            "    }\n",
            "  }\n",
            "]\n",
            "Stream: False\n",
            "Tool choice: NOT_GIVEN\n",
            "Response format: NOT_GIVEN\n",
            "\n"
          ]
        },
        {
          "output_type": "stream",
          "name": "stderr",
          "text": [
            "DEBUG:openai.agents:[\n",
            "  {\n",
            "    \"content\": \"You are good at handling weather related queries\",\n",
            "    \"role\": \"system\"\n",
            "  },\n",
            "  {\n",
            "    \"role\": \"user\",\n",
            "    \"content\": \"What is the weather in Tokyo in celcius\"\n",
            "  },\n",
            "  {\n",
            "    \"role\": \"assistant\",\n",
            "    \"tool_calls\": [\n",
            "      {\n",
            "        \"id\": \"\",\n",
            "        \"type\": \"function\",\n",
            "        \"function\": {\n",
            "          \"name\": \"transfer_to_weather_assistant\",\n",
            "          \"arguments\": \"{}\"\n",
            "        }\n",
            "      }\n",
            "    ]\n",
            "  },\n",
            "  {\n",
            "    \"role\": \"tool\",\n",
            "    \"tool_call_id\": \"\",\n",
            "    \"content\": \"{'assistant': 'Weather assistant'}\"\n",
            "  }\n",
            "]\n",
            "Tools:\n",
            "[\n",
            "  {\n",
            "    \"type\": \"function\",\n",
            "    \"function\": {\n",
            "      \"name\": \"get_current_weather\",\n",
            "      \"description\": \"Get the current weather in a given location\",\n",
            "      \"parameters\": {\n",
            "        \"properties\": {\n",
            "          \"location\": {\n",
            "            \"title\": \"Location\",\n",
            "            \"type\": \"string\"\n",
            "          },\n",
            "          \"unit\": {\n",
            "            \"default\": \"celsius\",\n",
            "            \"title\": \"Unit\",\n",
            "            \"type\": \"string\"\n",
            "          }\n",
            "        },\n",
            "        \"required\": [\n",
            "          \"location\",\n",
            "          \"unit\"\n",
            "        ],\n",
            "        \"title\": \"get_current_weather_args\",\n",
            "        \"type\": \"object\",\n",
            "        \"additionalProperties\": false\n",
            "      }\n",
            "    }\n",
            "  }\n",
            "]\n",
            "Stream: False\n",
            "Tool choice: NOT_GIVEN\n",
            "Response format: NOT_GIVEN\n",
            "\n"
          ]
        },
        {
          "output_type": "stream",
          "name": "stdout",
          "text": [
            "LLM resp:\n",
            "{\n",
            "  \"content\": null,\n",
            "  \"refusal\": null,\n",
            "  \"role\": \"assistant\",\n",
            "  \"annotations\": null,\n",
            "  \"audio\": null,\n",
            "  \"function_call\": null,\n",
            "  \"tool_calls\": [\n",
            "    {\n",
            "      \"id\": \"\",\n",
            "      \"function\": {\n",
            "        \"arguments\": \"{\\\"location\\\":\\\"Tokyo\\\",\\\"unit\\\":\\\"celcius\\\"}\",\n",
            "        \"name\": \"get_current_weather\"\n",
            "      },\n",
            "      \"type\": \"function\"\n",
            "    }\n",
            "  ]\n",
            "}\n",
            "\n"
          ]
        },
        {
          "output_type": "stream",
          "name": "stderr",
          "text": [
            "DEBUG:openai.agents:LLM resp:\n",
            "{\n",
            "  \"content\": null,\n",
            "  \"refusal\": null,\n",
            "  \"role\": \"assistant\",\n",
            "  \"annotations\": null,\n",
            "  \"audio\": null,\n",
            "  \"function_call\": null,\n",
            "  \"tool_calls\": [\n",
            "    {\n",
            "      \"id\": \"\",\n",
            "      \"function\": {\n",
            "        \"arguments\": \"{\\\"location\\\":\\\"Tokyo\\\",\\\"unit\\\":\\\"celcius\\\"}\",\n",
            "        \"name\": \"get_current_weather\"\n",
            "      },\n",
            "      \"type\": \"function\"\n",
            "    }\n",
            "  ]\n",
            "}\n",
            "\n"
          ]
        },
        {
          "output_type": "stream",
          "name": "stdout",
          "text": [
            "Tracing is disabled. Not creating span <agents.tracing.span_data.FunctionSpanData object at 0x7ed964851850>\n"
          ]
        },
        {
          "output_type": "stream",
          "name": "stderr",
          "text": [
            "DEBUG:openai.agents:Tracing is disabled. Not creating span <agents.tracing.span_data.FunctionSpanData object at 0x7ed964851850>\n"
          ]
        },
        {
          "output_type": "stream",
          "name": "stdout",
          "text": [
            "Invoking tool get_current_weather with input {\"location\":\"Tokyo\",\"unit\":\"celcius\"}\n"
          ]
        },
        {
          "output_type": "stream",
          "name": "stderr",
          "text": [
            "DEBUG:openai.agents:Invoking tool get_current_weather with input {\"location\":\"Tokyo\",\"unit\":\"celcius\"}\n"
          ]
        },
        {
          "output_type": "stream",
          "name": "stdout",
          "text": [
            "Tool call args: ['Tokyo', 'celcius'], kwargs: {}\n"
          ]
        },
        {
          "output_type": "stream",
          "name": "stderr",
          "text": [
            "DEBUG:openai.agents:Tool call args: ['Tokyo', 'celcius'], kwargs: {}\n"
          ]
        },
        {
          "output_type": "stream",
          "name": "stdout",
          "text": [
            "Tool get_current_weather returned {\"location\": \"Tokyo\", \"temperature\": \"10\", \"unit\": \"celsius\"}\n"
          ]
        },
        {
          "output_type": "stream",
          "name": "stderr",
          "text": [
            "DEBUG:openai.agents:Tool get_current_weather returned {\"location\": \"Tokyo\", \"temperature\": \"10\", \"unit\": \"celsius\"}\n"
          ]
        },
        {
          "output_type": "stream",
          "name": "stdout",
          "text": [
            "Running agent Weather assistant (turn 3)\n"
          ]
        },
        {
          "output_type": "stream",
          "name": "stderr",
          "text": [
            "DEBUG:openai.agents:Running agent Weather assistant (turn 3)\n"
          ]
        },
        {
          "output_type": "stream",
          "name": "stdout",
          "text": [
            "Tracing is disabled. Not creating span <agents.tracing.span_data.GenerationSpanData object at 0x7ed964850e30>\n"
          ]
        },
        {
          "output_type": "stream",
          "name": "stderr",
          "text": [
            "DEBUG:openai.agents:Tracing is disabled. Not creating span <agents.tracing.span_data.GenerationSpanData object at 0x7ed964850e30>\n"
          ]
        },
        {
          "output_type": "stream",
          "name": "stdout",
          "text": [
            "[\n",
            "  {\n",
            "    \"content\": \"You are good at handling weather related queries\",\n",
            "    \"role\": \"system\"\n",
            "  },\n",
            "  {\n",
            "    \"role\": \"user\",\n",
            "    \"content\": \"What is the weather in Tokyo in celcius\"\n",
            "  },\n",
            "  {\n",
            "    \"role\": \"assistant\",\n",
            "    \"tool_calls\": [\n",
            "      {\n",
            "        \"id\": \"\",\n",
            "        \"type\": \"function\",\n",
            "        \"function\": {\n",
            "          \"name\": \"transfer_to_weather_assistant\",\n",
            "          \"arguments\": \"{}\"\n",
            "        }\n",
            "      }\n",
            "    ]\n",
            "  },\n",
            "  {\n",
            "    \"role\": \"tool\",\n",
            "    \"tool_call_id\": \"\",\n",
            "    \"content\": \"{'assistant': 'Weather assistant'}\"\n",
            "  },\n",
            "  {\n",
            "    \"role\": \"assistant\",\n",
            "    \"tool_calls\": [\n",
            "      {\n",
            "        \"id\": \"\",\n",
            "        \"type\": \"function\",\n",
            "        \"function\": {\n",
            "          \"name\": \"get_current_weather\",\n",
            "          \"arguments\": \"{\\\"location\\\":\\\"Tokyo\\\",\\\"unit\\\":\\\"celcius\\\"}\"\n",
            "        }\n",
            "      }\n",
            "    ]\n",
            "  },\n",
            "  {\n",
            "    \"role\": \"tool\",\n",
            "    \"tool_call_id\": \"\",\n",
            "    \"content\": \"{\\\"location\\\": \\\"Tokyo\\\", \\\"temperature\\\": \\\"10\\\", \\\"unit\\\": \\\"celsius\\\"}\"\n",
            "  }\n",
            "]\n",
            "Tools:\n",
            "[\n",
            "  {\n",
            "    \"type\": \"function\",\n",
            "    \"function\": {\n",
            "      \"name\": \"get_current_weather\",\n",
            "      \"description\": \"Get the current weather in a given location\",\n",
            "      \"parameters\": {\n",
            "        \"properties\": {\n",
            "          \"location\": {\n",
            "            \"title\": \"Location\",\n",
            "            \"type\": \"string\"\n",
            "          },\n",
            "          \"unit\": {\n",
            "            \"default\": \"celsius\",\n",
            "            \"title\": \"Unit\",\n",
            "            \"type\": \"string\"\n",
            "          }\n",
            "        },\n",
            "        \"required\": [\n",
            "          \"location\",\n",
            "          \"unit\"\n",
            "        ],\n",
            "        \"title\": \"get_current_weather_args\",\n",
            "        \"type\": \"object\",\n",
            "        \"additionalProperties\": false\n",
            "      }\n",
            "    }\n",
            "  }\n",
            "]\n",
            "Stream: False\n",
            "Tool choice: NOT_GIVEN\n",
            "Response format: NOT_GIVEN\n",
            "\n"
          ]
        },
        {
          "output_type": "stream",
          "name": "stderr",
          "text": [
            "DEBUG:openai.agents:[\n",
            "  {\n",
            "    \"content\": \"You are good at handling weather related queries\",\n",
            "    \"role\": \"system\"\n",
            "  },\n",
            "  {\n",
            "    \"role\": \"user\",\n",
            "    \"content\": \"What is the weather in Tokyo in celcius\"\n",
            "  },\n",
            "  {\n",
            "    \"role\": \"assistant\",\n",
            "    \"tool_calls\": [\n",
            "      {\n",
            "        \"id\": \"\",\n",
            "        \"type\": \"function\",\n",
            "        \"function\": {\n",
            "          \"name\": \"transfer_to_weather_assistant\",\n",
            "          \"arguments\": \"{}\"\n",
            "        }\n",
            "      }\n",
            "    ]\n",
            "  },\n",
            "  {\n",
            "    \"role\": \"tool\",\n",
            "    \"tool_call_id\": \"\",\n",
            "    \"content\": \"{'assistant': 'Weather assistant'}\"\n",
            "  },\n",
            "  {\n",
            "    \"role\": \"assistant\",\n",
            "    \"tool_calls\": [\n",
            "      {\n",
            "        \"id\": \"\",\n",
            "        \"type\": \"function\",\n",
            "        \"function\": {\n",
            "          \"name\": \"get_current_weather\",\n",
            "          \"arguments\": \"{\\\"location\\\":\\\"Tokyo\\\",\\\"unit\\\":\\\"celcius\\\"}\"\n",
            "        }\n",
            "      }\n",
            "    ]\n",
            "  },\n",
            "  {\n",
            "    \"role\": \"tool\",\n",
            "    \"tool_call_id\": \"\",\n",
            "    \"content\": \"{\\\"location\\\": \\\"Tokyo\\\", \\\"temperature\\\": \\\"10\\\", \\\"unit\\\": \\\"celsius\\\"}\"\n",
            "  }\n",
            "]\n",
            "Tools:\n",
            "[\n",
            "  {\n",
            "    \"type\": \"function\",\n",
            "    \"function\": {\n",
            "      \"name\": \"get_current_weather\",\n",
            "      \"description\": \"Get the current weather in a given location\",\n",
            "      \"parameters\": {\n",
            "        \"properties\": {\n",
            "          \"location\": {\n",
            "            \"title\": \"Location\",\n",
            "            \"type\": \"string\"\n",
            "          },\n",
            "          \"unit\": {\n",
            "            \"default\": \"celsius\",\n",
            "            \"title\": \"Unit\",\n",
            "            \"type\": \"string\"\n",
            "          }\n",
            "        },\n",
            "        \"required\": [\n",
            "          \"location\",\n",
            "          \"unit\"\n",
            "        ],\n",
            "        \"title\": \"get_current_weather_args\",\n",
            "        \"type\": \"object\",\n",
            "        \"additionalProperties\": false\n",
            "      }\n",
            "    }\n",
            "  }\n",
            "]\n",
            "Stream: False\n",
            "Tool choice: NOT_GIVEN\n",
            "Response format: NOT_GIVEN\n",
            "\n"
          ]
        },
        {
          "output_type": "stream",
          "name": "stdout",
          "text": [
            "LLM resp:\n",
            "{\n",
            "  \"content\": \"The weather in Tokyo is 10 degrees Celsius.\\n\",\n",
            "  \"refusal\": null,\n",
            "  \"role\": \"assistant\",\n",
            "  \"annotations\": null,\n",
            "  \"audio\": null,\n",
            "  \"function_call\": null,\n",
            "  \"tool_calls\": null\n",
            "}\n",
            "\n"
          ]
        },
        {
          "output_type": "stream",
          "name": "stderr",
          "text": [
            "DEBUG:openai.agents:LLM resp:\n",
            "{\n",
            "  \"content\": \"The weather in Tokyo is 10 degrees Celsius.\\n\",\n",
            "  \"refusal\": null,\n",
            "  \"role\": \"assistant\",\n",
            "  \"annotations\": null,\n",
            "  \"audio\": null,\n",
            "  \"function_call\": null,\n",
            "  \"tool_calls\": null\n",
            "}\n",
            "\n"
          ]
        },
        {
          "output_type": "stream",
          "name": "stdout",
          "text": [
            "Resetting current trace\n"
          ]
        },
        {
          "output_type": "stream",
          "name": "stderr",
          "text": [
            "DEBUG:openai.agents:Resetting current trace\n"
          ]
        },
        {
          "output_type": "stream",
          "name": "stdout",
          "text": [
            "Weather assistant\n",
            "The weather in Tokyo is 10 degrees Celsius.\n",
            "\n"
          ]
        }
      ]
    }
  ]
}